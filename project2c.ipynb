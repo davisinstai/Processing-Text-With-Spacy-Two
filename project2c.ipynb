{
 "cells": [
  {
   "cell_type": "markdown",
   "metadata": {},
   "source": [
    "# Project 2c: Goals and Deliverables"
   ]
  },
  {
   "cell_type": "markdown",
   "metadata": {},
   "source": [
    "The goals of this assignment are:\n",
    "* To review basic NLP tasks for words using dictionaries, sets, lists and file read/write.\n",
    "\n",
    "\n",
    "Here are the steps you should do to successfully complete this project:\n",
    "1. From moodle, accept the assignment.\n",
    "2. Open and set up a code space (install a python kernal and select it).\n",
    "3. Complete the notebook and commit it to Github. Make sure to answer all questions, and to commit the notebook in a \"run\" state!\n",
    "4. Edit the README.md file. Provide your name, your class year, links to/descriptions of any extensions and a list of resources. Make sure to paste the output from running spacy-on-files.py!\n",
    "5. Commit your code often. We will take the last commit before the deadline as your submission of the project.\n",
    "\n",
    "For extra credit:\n",
    "* Read the spaCy docs (https://spacy.io/usage/models). Figure out how to make spaCy work for another language. Add a starter question asking the user to indicate the language. \n",
    "* We are doing all of this on the command line. If you got mercury web apps running, make some of this work in mercury.\n",
    "* Take a look at the [spaCy universe pdf reader](https://spacy.io/universe/project/spacypdfreader/). Download the pdfs for at least two of the papers in our corpus and load them using this reader. Does this reader give cleaner text then constellate, or not? Justify your answer.\n",
    "* Your other ideas are welcome! If you'd like to discuss one with Dr Stent, feel free."
   ]
  },
  {
   "cell_type": "markdown",
   "metadata": {},
   "source": [
    "# Setup"
   ]
  },
  {
   "cell_type": "markdown",
   "metadata": {},
   "source": [
    "## Let's Install Our Packages\n",
    "\n",
    "On the command line (in the terminal), type:\n",
    "\n",
    "% `pip install -r requirements.txt`"
   ]
  },
  {
   "cell_type": "markdown",
   "metadata": {},
   "source": [
    "## Let's Upload Our Data\n",
    "\n",
    "From Moodle, download `files.zip`. \n",
    "\n",
    "Then, upload `files.zip` to the code space.\n",
    "\n",
    "Click on the blue circle.\n",
    "\n",
    "Right click on `files.zip` and click `add to .gitignore`."
   ]
  },
  {
   "cell_type": "markdown",
   "metadata": {},
   "source": [
    "## Let's Uncompress Our Data\n",
    "\n",
    "In the terminal, type:\n",
    "\n",
    "% `mkdir texts`\n",
    "\n",
    "% `cp files.zip texts`\n",
    "\n",
    "% `cd texts`\n",
    "\n",
    "% `unzip files.zip`\n",
    "\n",
    "% `rm files.zip`\n",
    "\n",
    "Click on the blue circle.\n",
    "\n",
    "Select all the files that start with `ark` and click `add to .gitignore`."
   ]
  },
  {
   "cell_type": "markdown",
   "metadata": {},
   "source": [
    "# Reading Files in Python\n",
    "\n",
    "In python we can use the packages [`glob`](https://docs.python.org/3/library/glob.html) and [`zipfile`](https://docs.python.org/3/library/zipfile.html) (among others!) to read and write files."
   ]
  },
  {
   "cell_type": "markdown",
   "metadata": {},
   "source": [
    "## Opening a Regular File\n",
    "\n",
    "You can use the following syntax to open a regular file (note, the text in `colby_college.txt` comes from wikipedia):\n"
   ]
  },
  {
   "cell_type": "code",
   "execution_count": 21,
   "metadata": {},
   "outputs": [
    {
     "name": "stdout",
     "output_type": "stream",
     "text": [
      "['Colby College is a private liberal arts college in Waterville, Maine. Founded in 1813 as the Maine Literary and Theological Institution, it was renamed Waterville College in 1821. The donations of Christian philanthropist Gardner Colby saw the institution renamed again to Colby University before settling on its current title, reflecting its liberal arts college curriculum, in 1899. Approximately 2,000 students from more than 60 countries are enrolled annually. The college offers 54 major fields of study and 30 minors.\\n', '\\n', 'Located in central Maine, the 714-acre Neo-Georgian campus sits atop Mayflower Hill and overlooks downtown Waterville and the Kennebec River Valley. Along with fellow Maine institutions Bates College and Bowdoin College, Colby competes in the New England Small College Athletic Conference (NESCAC) and the Colby-Bates-Bowdoin Consortium.\\n', '\\n', 'History']\n"
     ]
    }
   ],
   "source": [
    "# let's talk about this encoding business!\n",
    "with open('colby_college.txt', encoding='utf-8') as f:\n",
    "    # read the lines all at once\n",
    "    # how could you read the lines one by one?\n",
    "    lines = f.readlines()\n",
    "    # print them; are they a string, set, list, dictionary or something else?\n",
    "    print(lines)"
   ]
  },
  {
   "cell_type": "markdown",
   "metadata": {},
   "source": [
    "## Opening a Zip File\n",
    "\n",
    "You can use the following syntax to open a zip file (note, our zip file comes from constellate!):"
   ]
  },
  {
   "cell_type": "code",
   "execution_count": 20,
   "metadata": {},
   "outputs": [
    {
     "name": "stdout",
     "output_type": "stream",
     "text": [
      "ark:__27927_phx1wcjq0tm 83155\n",
      "ark:__27927_phz35174v0z 18637\n",
      "ark:__27927_phz8qhfbxzm 35441\n",
      "ark:__27927_phzbjns29gn 81655\n",
      "ark:__27927_phzjj6kfdxp 85290\n",
      "ark:__27927_phzkfzqzs41 18604\n",
      "ark:__27927_phzmmfj893c 37058\n",
      "ark:__27927_phznswfkrxz 24534\n",
      "ark:__27927_phzpdcpvdnb 71315\n",
      "ark:__27927_phzq26wnjzn 20182\n",
      "ark:__27927_phzq8c34ggp 41636\n",
      "ark:__27927_pjb16g9m9r7 97709\n",
      "ark:__27927_pjb1wn175cv 37144\n",
      "ark:__27927_pjb1z5xzrx7 102877\n",
      "ark:__27927_pjb1z8505hp 88642\n",
      "ark:__27927_pjb3ptfm8xd 108700\n",
      "ark:__27927_pjb5s37cx32 64217\n",
      "ark:__27927_pjb65xt4m6r 130322\n"
     ]
    }
   ],
   "source": [
    "# import zipfile package\n",
    "import zipfile\n",
    "\n",
    "# make a pattern\n",
    "pattern = 'files.zip'\n",
    "\n",
    "# make a zipfile object\n",
    "zipf = zipfile.ZipFile(pattern)\n",
    "# for each file_name in the zip file\n",
    "for file_name in zipf.namelist():\n",
    "    # open file_name as f\n",
    "    with zipf.open(file_name) as f:\n",
    "        # get all the text; why do we decode it to utf-8 and what is that? \n",
    "        # what if we read it line by line, how would that work?\n",
    "        text = ''.join([x.decode('utf-8') for x in f.readlines()])\n",
    "        # print the file name and the number of characters in the text\n"
   ]
  },
  {
   "cell_type": "markdown",
   "metadata": {},
   "source": [
    "## Opening a Bunch of Regular Files\n",
    "\n",
    "You can use the following syntax to open a bunch of files with the `glob` package (note, `*` matches any number of characters):"
   ]
  },
  {
   "cell_type": "code",
   "execution_count": 24,
   "metadata": {},
   "outputs": [
    {
     "name": "stdout",
     "output_type": "stream",
     "text": [
      "colby_college.txt\n",
      "['Colby College is a private liberal arts college in Waterville, Maine. Founded in 1813 as the Maine Literary and Theological Institution, it was renamed Waterville College in 1821. The donations of Christian philanthropist Gardner Colby saw the institution renamed again to Colby University before settling on its current title, reflecting its liberal arts college curriculum, in 1899. Approximately 2,000 students from more than 60 countries are enrolled annually. The college offers 54 major fields of study and 30 minors.\\n', '\\n', 'Located in central Maine, the 714-acre Neo-Georgian campus sits atop Mayflower Hill and overlooks downtown Waterville and the Kennebec River Valley. Along with fellow Maine institutions Bates College and Bowdoin College, Colby competes in the New England Small College Athletic Conference (NESCAC) and the Colby-Bates-Bowdoin Consortium.\\n', '\\n', 'History']\n",
      "columbia_university.txt\n",
      "[\"Columbia University, officially titled as Columbia University in the City of New York,[9] is a private Ivy League research university in New York City. Established in 1754 as King's College on the grounds of Trinity Church in Manhattan, it is the oldest institution of higher education in New York and the fifth-oldest in the United States.\"]\n"
     ]
    }
   ],
   "source": [
    "# import glob\n",
    "import glob\n",
    "\n",
    "# set a pattern\n",
    "pattern = 'c*.txt'\n",
    "\n",
    "# read the file names matching the pattern\n",
    "for file_name in glob.glob(pattern):\n",
    "    # print file_name\n",
    "    print(file_name)\n",
    "    # open file_name as f\n",
    "    with open(file_name, encoding='utf-8') as f:\n",
    "        # get all the text; how would we read it one line at a time?\n",
    "        text = f.readlines()\n",
    "        # how would we turn that into one string?\n",
    "\n",
    "        # print the file name and the number of characters in the text\n",
    "        "
   ]
  },
  {
   "cell_type": "markdown",
   "metadata": {},
   "source": [
    "Questions:\n",
    "1. *What python package helps us read and write zip files?*\n",
    "2. *What python package helps us read and write multiple files at once?* \n",
    "3. *What is a `wildcard` character used by that package?* \n",
    "4. *What happens if we try to load a file that doesn't exist?* \n",
    "5. *A file opens and we read it line by line. What if there's a funny character in the file?* \n",
    "6. *A file opesn and we read it line by line using `readlines()`. What do we get as output?* \n",
    "7. *How do we read a file line by line?*\n",
    "8. *How do we read a file all lines at once?* \n",
    "9. *How do we turn (the text in a) file into a spaCy document?* \n",
    "10. *How do we deal with file reading errors?*\n"
   ]
  }
 ],
 "metadata": {
  "kernelspec": {
   "display_name": "Python 3",
   "language": "python",
   "name": "python3"
  },
  "language_info": {
   "codemirror_mode": {
    "name": "ipython",
    "version": 3
   },
   "file_extension": ".py",
   "mimetype": "text/x-python",
   "name": "python",
   "nbconvert_exporter": "python",
   "pygments_lexer": "ipython3",
   "version": "3.10.8"
  },
  "orig_nbformat": 4
 },
 "nbformat": 4,
 "nbformat_minor": 2
}
